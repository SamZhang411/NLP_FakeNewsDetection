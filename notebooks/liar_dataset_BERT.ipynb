{
  "cells": [
    {
      "cell_type": "markdown",
      "source": [
        "## I. Environment Setup"
      ],
      "metadata": {
        "id": "kEaxhrcsPdZq"
      }
    },
    {
      "cell_type": "code",
      "execution_count": 1,
      "metadata": {
        "id": "XlboqZ4nOu5j"
      },
      "outputs": [],
      "source": [
        "# !pip install datasets\n",
        "# !pip install transformers\n",
        "# !pip install pycaret\n",
        "# !pip install tensorflow\n",
        "# !pip install sklearn"
      ]
    },
    {
      "cell_type": "code",
      "execution_count": 2,
      "metadata": {
        "id": "EPM2EkfPOu5o"
      },
      "outputs": [],
      "source": [
        "import numpy as np\n",
        "import pandas as pd\n",
        "import tensorflow as tf\n",
        "import pycaret\n",
        "import transformers\n",
        "from transformers import BertTokenizer\n",
        "from transformers import TFBertModel\n",
        "from transformers import TFDistilBertModel, DistilBertTokenizerFast\n",
        "from tqdm.auto import tqdm\n",
        "\n",
        "import matplotlib.pyplot as plt\n",
        "from sklearn.metrics import confusion_matrix\n",
        "from sklearn.model_selection import train_test_split\n",
        "from sklearn.metrics import classification_report\n",
        "import torch\n",
        "import torch.nn as nn"
      ]
    },
    {
      "cell_type": "markdown",
      "source": [
        "## II. Load DataSet\n"
      ],
      "metadata": {
        "id": "Ip28XRL0Ps1R"
      }
    },
    {
      "cell_type": "code",
      "execution_count": 3,
      "metadata": {
        "colab": {
          "base_uri": "https://localhost:8080/"
        },
        "id": "f8VqqPEoOu5p",
        "outputId": "be577ecf-80a6-4259-d83e-a5a4981c70ad"
      },
      "outputs": [
        {
          "output_type": "stream",
          "name": "stdout",
          "text": [
            "total samples (12836, 14)\n",
            "id                                                              2635.json\n",
            "label                                                                   0\n",
            "statement               Says the Annies List political group supports ...\n",
            "subject                                                          abortion\n",
            "speaker                                                      dwayne-bohac\n",
            "job_title                                            State representative\n",
            "state_info                                                          Texas\n",
            "party_affiliation                                              republican\n",
            "barely_true_counts                                                    0.0\n",
            "false_counts                                                          1.0\n",
            "half_true_counts                                                      0.0\n",
            "mostly_true_counts                                                    0.0\n",
            "pants_on_fire_counts                                                  0.0\n",
            "context                                                          a mailer\n",
            "Name: 0, dtype: object\n"
          ]
        }
      ],
      "source": [
        "from datasets import load_dataset\n",
        "\n",
        "dataset = load_dataset(\"liar\")\n",
        "\n",
        "train_set = pd.DataFrame(dataset['train'])\n",
        "test_set = pd.DataFrame(dataset['test'])\n",
        "validation_set = pd.DataFrame(dataset['validation'])\n",
        "\n",
        "combined_data = pd.concat([train_set, test_set, validation_set], ignore_index=True)\n",
        "combined_data = combined_data.sample(frac=1, random_state=42).reset_index(drop=True)\n",
        "\n",
        "print(\"total samples\", combined_data.shape)\n",
        "# View the first entry in the training set\n",
        "print(train_set.iloc[0])\n"
      ]
    },
    {
      "cell_type": "code",
      "source": [
        "combined_data.info()"
      ],
      "metadata": {
        "colab": {
          "base_uri": "https://localhost:8080/"
        },
        "id": "EVRGwpZadxmK",
        "outputId": "13109e98-368d-45f1-c826-c89160973af1"
      },
      "execution_count": 4,
      "outputs": [
        {
          "output_type": "stream",
          "name": "stdout",
          "text": [
            "<class 'pandas.core.frame.DataFrame'>\n",
            "RangeIndex: 12836 entries, 0 to 12835\n",
            "Data columns (total 14 columns):\n",
            " #   Column                Non-Null Count  Dtype  \n",
            "---  ------                --------------  -----  \n",
            " 0   id                    12836 non-null  object \n",
            " 1   label                 12836 non-null  int64  \n",
            " 2   statement             12836 non-null  object \n",
            " 3   subject               12836 non-null  object \n",
            " 4   speaker               12836 non-null  object \n",
            " 5   job_title             12836 non-null  object \n",
            " 6   state_info            12836 non-null  object \n",
            " 7   party_affiliation     12836 non-null  object \n",
            " 8   barely_true_counts    12836 non-null  float64\n",
            " 9   false_counts          12836 non-null  float64\n",
            " 10  half_true_counts      12836 non-null  float64\n",
            " 11  mostly_true_counts    12836 non-null  float64\n",
            " 12  pants_on_fire_counts  12836 non-null  float64\n",
            " 13  context               12836 non-null  object \n",
            "dtypes: float64(5), int64(1), object(8)\n",
            "memory usage: 1.4+ MB\n"
          ]
        }
      ]
    },
    {
      "cell_type": "markdown",
      "source": [
        "## III. Preprocess and Tokenize Data"
      ],
      "metadata": {
        "id": "8mLWPucNTAqb"
      }
    },
    {
      "cell_type": "code",
      "execution_count": 5,
      "metadata": {
        "id": "VcugjUmKOu5q"
      },
      "outputs": [],
      "source": [
        "# tokenizer = BertTokenizer.from_pretrained('bert-base-cased')\n",
        "tokenizer = DistilBertTokenizerFast.from_pretrained('distilbert-base-uncased')\n",
        "\n",
        "token = tokenizer.encode_plus(\n",
        "    train_set['statement'].iloc[0],\n",
        "    max_length=64,\n",
        "    truncation=True,\n",
        "    padding='max_length',\n",
        "    add_special_tokens=True,\n",
        "    return_tensors='tf'\n",
        ")"
      ]
    },
    {
      "cell_type": "code",
      "source": [
        "X_input_ids = np.zeros((len(combined_data), 64))\n",
        "X_attn_masks = np.zeros((len(combined_data), 64))\n",
        "X_input_ids.shape"
      ],
      "metadata": {
        "colab": {
          "base_uri": "https://localhost:8080/"
        },
        "id": "gsk8cNO0Sh-f",
        "outputId": "c3fcc115-6cfa-4beb-b9bd-4a9df63f3d45"
      },
      "execution_count": 6,
      "outputs": [
        {
          "output_type": "execute_result",
          "data": {
            "text/plain": [
              "(12836, 64)"
            ]
          },
          "metadata": {},
          "execution_count": 6
        }
      ]
    },
    {
      "cell_type": "code",
      "source": [
        "def generate_training_data(df, ids, masks, tokenizer):\n",
        "    for i, text in tqdm(enumerate(df['statement'])):\n",
        "        tokenized_text = tokenizer.encode_plus(\n",
        "            text,\n",
        "            max_length=64,\n",
        "            truncation=True,\n",
        "            padding='max_length',\n",
        "            add_special_tokens=True,\n",
        "            return_tensors='tf'\n",
        "        )\n",
        "        ids[i, :] = tokenized_text.input_ids\n",
        "        masks[i, :] = tokenized_text.attention_mask\n",
        "    return ids, masks"
      ],
      "metadata": {
        "id": "QV1Sy5mnTFW1"
      },
      "execution_count": 7,
      "outputs": []
    },
    {
      "cell_type": "code",
      "source": [
        "X_input_ids, X_attn_masks = generate_training_data(combined_data, X_input_ids, X_attn_masks, tokenizer)"
      ],
      "metadata": {
        "colab": {
          "base_uri": "https://localhost:8080/",
          "height": 49,
          "referenced_widgets": [
            "83ca3062be6a48729c554b940e7895d5",
            "f044989c996847daaa8ca7d3ce431abb",
            "35178d2304f64b218d9b11de4c37f9e9",
            "17ae694c3e20457b98c278d68c4ffe8a",
            "b84c64b5065b4958a4361b5f86d7add3",
            "cb1be55587214122ab0ed9eac0b40337",
            "314a0a906e9d4088bbbc935a72dfe64c",
            "385d72ac8e1946329693ca69219654ac",
            "512b11545f9048f49b183973b601a6a4",
            "6c96b907cb28402e946afdafa5639d31",
            "35843b762dd64d85ba8f1bedb239ffb4"
          ]
        },
        "id": "KIaFUFU2TU8t",
        "outputId": "bb83e887-f689-47f2-e542-c97116b9eda6"
      },
      "execution_count": 8,
      "outputs": [
        {
          "output_type": "display_data",
          "data": {
            "text/plain": [
              "0it [00:00, ?it/s]"
            ],
            "application/vnd.jupyter.widget-view+json": {
              "version_major": 2,
              "version_minor": 0,
              "model_id": "83ca3062be6a48729c554b940e7895d5"
            }
          },
          "metadata": {}
        }
      ]
    },
    {
      "cell_type": "code",
      "source": [
        "number_of_unique_labels = len(combined_data['label'].unique())\n",
        "\n",
        "labels = np.zeros((len(combined_data), number_of_unique_labels))\n",
        "labels[np.arange(len(combined_data)), combined_data['label'].values] = 1 # one-hot encoded target tensor\n",
        "\n",
        "labels"
      ],
      "metadata": {
        "colab": {
          "base_uri": "https://localhost:8080/"
        },
        "id": "h_dvEeQnT4tH",
        "outputId": "fccaf6c5-feb3-464d-9b0d-e42ffd92401b"
      },
      "execution_count": 9,
      "outputs": [
        {
          "output_type": "execute_result",
          "data": {
            "text/plain": [
              "array([[0., 0., 0., 0., 1., 0.],\n",
              "       [0., 0., 0., 1., 0., 0.],\n",
              "       [1., 0., 0., 0., 0., 0.],\n",
              "       ...,\n",
              "       [1., 0., 0., 0., 0., 0.],\n",
              "       [1., 0., 0., 0., 0., 0.],\n",
              "       [0., 1., 0., 0., 0., 0.]])"
            ]
          },
          "metadata": {},
          "execution_count": 9
        }
      ]
    },
    {
      "cell_type": "code",
      "source": [
        "# creating a data pipeline using tensorflow dataset utility, creates batches of data for easy loading...\n",
        "dataset = tf.data.Dataset.from_tensor_slices((X_input_ids, X_attn_masks, labels))\n",
        "dataset.take(1)"
      ],
      "metadata": {
        "colab": {
          "base_uri": "https://localhost:8080/"
        },
        "id": "pWOj_6lHgW_A",
        "outputId": "83bb9965-b961-49ff-e16a-1f0d8db844c4"
      },
      "execution_count": 10,
      "outputs": [
        {
          "output_type": "execute_result",
          "data": {
            "text/plain": [
              "<_TakeDataset element_spec=(TensorSpec(shape=(64,), dtype=tf.float64, name=None), TensorSpec(shape=(64,), dtype=tf.float64, name=None), TensorSpec(shape=(6,), dtype=tf.float64, name=None))>"
            ]
          },
          "metadata": {},
          "execution_count": 10
        }
      ]
    },
    {
      "cell_type": "code",
      "source": [
        "def LabelDatasetMapFunction(input_ids, attn_masks, labels):\n",
        "    return {\n",
        "        'input_ids': input_ids,\n",
        "        'attention_mask': attn_masks\n",
        "    }, labels"
      ],
      "metadata": {
        "id": "d4GYA8EQUr8r"
      },
      "execution_count": 11,
      "outputs": []
    },
    {
      "cell_type": "code",
      "source": [
        "dataset = dataset.map(LabelDatasetMapFunction)"
      ],
      "metadata": {
        "id": "YzUC7Ashg3v1"
      },
      "execution_count": 12,
      "outputs": []
    },
    {
      "cell_type": "code",
      "source": [
        "dataset = dataset.shuffle(10000).batch(16, drop_remainder=True)\n",
        "\n",
        "total_batches = len(dataset)\n",
        "print(total_batches)\n",
        "\n",
        "# Calculate the size of each subset\n",
        "train_batches = int(total_batches * 0.7)\n",
        "val_batches = int(total_batches * 0.15)\n",
        "test_batches = total_batches - train_batches - val_batches\n",
        "\n",
        "\n",
        "# Split the dataset\n",
        "train_dataset = dataset.take(train_batches)\n",
        "val_dataset = dataset.skip(train_batches).take(val_batches)\n",
        "test_dataset = dataset.skip(train_batches + val_batches)\n",
        "\n",
        "# Print the sizes to verify\n",
        "print(\"Training Set Size:\", len(train_dataset))\n",
        "print(\"Validation Set Size:\", len(val_dataset))\n",
        "print(\"Test Set Size:\", len(test_dataset))\n"
      ],
      "metadata": {
        "colab": {
          "base_uri": "https://localhost:8080/"
        },
        "id": "Rkr9vAfKVDvw",
        "outputId": "b2b9dac2-3912-4d56-b587-49d857ae6737"
      },
      "execution_count": 13,
      "outputs": [
        {
          "output_type": "stream",
          "name": "stdout",
          "text": [
            "802\n",
            "Training Set Size: 561\n",
            "Validation Set Size: 120\n",
            "Test Set Size: 121\n"
          ]
        }
      ]
    },
    {
      "cell_type": "markdown",
      "source": [
        "## IV. Model"
      ],
      "metadata": {
        "id": "MSh6Qr2YhW-F"
      }
    },
    {
      "cell_type": "code",
      "source": [
        "# model = TFBertModel.from_pretrained('bert-base-cased')\n",
        "model = TFDistilBertModel.from_pretrained('distilbert-base-uncased')\n"
      ],
      "metadata": {
        "colab": {
          "base_uri": "https://localhost:8080/"
        },
        "id": "HBZdJ0aihd6F",
        "outputId": "75472b83-a6b1-42f6-b7bf-8b4e7036c17b"
      },
      "execution_count": 14,
      "outputs": [
        {
          "output_type": "stream",
          "name": "stderr",
          "text": [
            "Some weights of the PyTorch model were not used when initializing the TF 2.0 model TFDistilBertModel: ['vocab_transform.bias', 'vocab_layer_norm.weight', 'vocab_layer_norm.bias', 'vocab_transform.weight', 'vocab_projector.bias']\n",
            "- This IS expected if you are initializing TFDistilBertModel from a PyTorch model trained on another task or with another architecture (e.g. initializing a TFBertForSequenceClassification model from a BertForPreTraining model).\n",
            "- This IS NOT expected if you are initializing TFDistilBertModel from a PyTorch model that you expect to be exactly identical (e.g. initializing a TFBertForSequenceClassification model from a BertForSequenceClassification model).\n",
            "All the weights of TFDistilBertModel were initialized from the PyTorch model.\n",
            "If your task is similar to the task the model of the checkpoint was trained on, you can already use TFDistilBertModel for predictions without further training.\n"
          ]
        }
      ]
    },
    {
      "cell_type": "code",
      "source": [
        "input_ids = tf.keras.layers.Input(shape=(64,), name='input_ids', dtype='int32')\n",
        "attn_masks = tf.keras.layers.Input(shape=(64,), name='attention_mask', dtype='int32')\n",
        "\n",
        "embedding_layer = model(input_ids, attention_mask=attn_masks)[0]\n",
        "pooled_output = tf.keras.layers.GlobalAveragePooling1D()(embedding_layer)\n",
        "relu_layer = tf.keras.layers.Dense(128, activation='relu', name='relu_layer')(pooled_output)\n",
        "output_layer = tf.keras.layers.Dense(6, activation='softmax', name='output_layer')(relu_layer)\n",
        "\n",
        "liar_model = tf.keras.Model(inputs=[input_ids, attn_masks], outputs=output_layer)\n",
        "liar_model.summary()"
      ],
      "metadata": {
        "colab": {
          "base_uri": "https://localhost:8080/"
        },
        "id": "YkvgGAK4hmnV",
        "outputId": "c457fc78-774e-4cb5-a9d6-c49a4e21d5a4"
      },
      "execution_count": 15,
      "outputs": [
        {
          "output_type": "stream",
          "name": "stdout",
          "text": [
            "Model: \"model\"\n",
            "__________________________________________________________________________________________________\n",
            " Layer (type)                Output Shape                 Param #   Connected to                  \n",
            "==================================================================================================\n",
            " input_ids (InputLayer)      [(None, 64)]                 0         []                            \n",
            "                                                                                                  \n",
            " attention_mask (InputLayer  [(None, 64)]                 0         []                            \n",
            " )                                                                                                \n",
            "                                                                                                  \n",
            " tf_distil_bert_model (TFDi  TFBaseModelOutput(last_hid   6636288   ['input_ids[0][0]',           \n",
            " stilBertModel)              den_state=(None, 64, 768),   0          'attention_mask[0][0]']      \n",
            "                              hidden_states=None, atten                                           \n",
            "                             tions=None)                                                          \n",
            "                                                                                                  \n",
            " global_average_pooling1d (  (None, 768)                  0         ['tf_distil_bert_model[0][0]']\n",
            " GlobalAveragePooling1D)                                                                          \n",
            "                                                                                                  \n",
            " relu_layer (Dense)          (None, 128)                  98432     ['global_average_pooling1d[0][\n",
            "                                                                    0]']                          \n",
            "                                                                                                  \n",
            " output_layer (Dense)        (None, 6)                    774       ['relu_layer[0][0]']          \n",
            "                                                                                                  \n",
            "==================================================================================================\n",
            "Total params: 66462086 (253.53 MB)\n",
            "Trainable params: 66462086 (253.53 MB)\n",
            "Non-trainable params: 0 (0.00 Byte)\n",
            "__________________________________________________________________________________________________\n"
          ]
        }
      ]
    },
    {
      "cell_type": "code",
      "source": [
        "optimizer = tf.keras.optimizers.Adam(learning_rate=1e-5)\n",
        "loss = tf.keras.losses.CategoricalCrossentropy()\n",
        "accuracy_score = tf.keras.metrics.CategoricalAccuracy('accuracy')"
      ],
      "metadata": {
        "id": "9vuhrK-ViMsI"
      },
      "execution_count": 16,
      "outputs": []
    },
    {
      "cell_type": "code",
      "source": [
        "liar_model.compile(optimizer=optimizer, loss=loss, metrics=[accuracy_score])\n"
      ],
      "metadata": {
        "id": "ZCCJApsAiVhi"
      },
      "execution_count": 17,
      "outputs": []
    },
    {
      "cell_type": "code",
      "source": [
        "class CustomCallback(tf.keras.callbacks.Callback):\n",
        "    def on_epoch_end(self, epoch, logs=None):\n",
        "        logs = logs or {}\n",
        "        print(f\"End of epoch {epoch}\")\n",
        "        print(f\"Training loss: {logs.get('loss')}, Training accuracy: {logs.get('accuracy')}\")\n",
        "        print(f\"Validation loss: {logs.get('val_loss')}, Validation accuracy: {logs.get('val_accuracy')}\")\n"
      ],
      "metadata": {
        "id": "67ikVbfokpTE"
      },
      "execution_count": 18,
      "outputs": []
    },
    {
      "cell_type": "code",
      "source": [
        "# Training the model\n",
        "hist = liar_model.fit(\n",
        "    train_dataset,\n",
        "    validation_data=val_dataset,\n",
        "    epochs=4,\n",
        "    callbacks=[CustomCallback()]\n",
        ")\n",
        "\n",
        "# Plotting training and validation accuracy\n",
        "plt.figure(figsize=(12, 4))\n",
        "plt.subplot(1, 2, 1)\n",
        "plt.plot(hist.history['accuracy'], label='Train Accuracy')\n",
        "plt.plot(hist.history['val_accuracy'], label='Validation Accuracy')\n",
        "plt.title('Accuracy over Epochs')\n",
        "plt.legend()\n",
        "\n",
        "# Plotting training and validation loss\n",
        "plt.subplot(1, 2, 2)\n",
        "plt.plot(hist.history['loss'], label='Train Loss')\n",
        "plt.plot(hist.history['val_loss'], label='Validation Loss')\n",
        "plt.title('Loss over Epochs')\n",
        "plt.legend()\n",
        "\n",
        "plt.show()"
      ],
      "metadata": {
        "colab": {
          "base_uri": "https://localhost:8080/"
        },
        "id": "a6wI8MmejfWT",
        "outputId": "da06b6fe-bc1d-40ec-9788-ea3bee1b359a"
      },
      "execution_count": null,
      "outputs": [
        {
          "output_type": "stream",
          "name": "stdout",
          "text": [
            "Epoch 1/4\n",
            " 83/561 [===>..........................] - ETA: 1:05:03 - loss: 1.7488 - accuracy: 0.2357"
          ]
        }
      ]
    },
    {
      "cell_type": "code",
      "source": [
        "liar_model.save('BERT_liar_model')"
      ],
      "metadata": {
        "id": "O9JAvp29tnEL"
      },
      "execution_count": null,
      "outputs": []
    },
    {
      "cell_type": "markdown",
      "source": [
        "## V. Prediction\n"
      ],
      "metadata": {
        "id": "SIKFTG78tZkM"
      }
    },
    {
      "cell_type": "code",
      "source": [
        "liar_model = tf.keras.models.load_model('BERT_liar_model')\n",
        "\n",
        "tokenizer = BertTokenizer.from_pretrained('bert-base-cased')\n",
        "\n",
        "def prepare_data(input_text, tokenizer):\n",
        "    token = tokenizer.encode_plus(\n",
        "        input_text,\n",
        "        max_length=64,\n",
        "        truncation=True,\n",
        "        padding='max_length',\n",
        "        add_special_tokens=True,\n",
        "        return_tensors='tf'\n",
        "    )\n",
        "    return {\n",
        "        'input_ids': tf.cast(token.input_ids, tf.float64),\n",
        "        'attention_mask': tf.cast(token.attention_mask, tf.float64)\n",
        "    }\n",
        "\n",
        "def make_prediction(model, processed_data, classes=['False', 'Half-True', 'Mostly-True', 'True', 'Barely-True', 'Pants-Fire']):\n",
        "    probs = model.predict(processed_data)[0]\n",
        "    return classes[np.argmax(probs)]"
      ],
      "metadata": {
        "id": "LgcUx0k8tde-"
      },
      "execution_count": null,
      "outputs": []
    },
    {
      "cell_type": "code",
      "source": [
        "input_text = input('Enter news article title: ')\n",
        "processed_data = prepare_data(input_text, tokenizer)\n",
        "result = make_prediction(liar_model, processed_data=processed_data)\n",
        "print(f\"Predicted Truthfullness: {result}\")"
      ],
      "metadata": {
        "id": "rGHiDx6QvTOP"
      },
      "execution_count": null,
      "outputs": []
    }
  ],
  "metadata": {
    "kernelspec": {
      "display_name": "Python 3",
      "language": "python",
      "name": "python3"
    },
    "language_info": {
      "codemirror_mode": {
        "name": "ipython",
        "version": 3
      },
      "file_extension": ".py",
      "mimetype": "text/x-python",
      "name": "python",
      "nbconvert_exporter": "python",
      "pygments_lexer": "ipython3",
      "version": "3.8.6"
    },
    "colab": {
      "provenance": []
    },
    "widgets": {
      "application/vnd.jupyter.widget-state+json": {
        "83ca3062be6a48729c554b940e7895d5": {
          "model_module": "@jupyter-widgets/controls",
          "model_name": "HBoxModel",
          "model_module_version": "1.5.0",
          "state": {
            "_dom_classes": [],
            "_model_module": "@jupyter-widgets/controls",
            "_model_module_version": "1.5.0",
            "_model_name": "HBoxModel",
            "_view_count": null,
            "_view_module": "@jupyter-widgets/controls",
            "_view_module_version": "1.5.0",
            "_view_name": "HBoxView",
            "box_style": "",
            "children": [
              "IPY_MODEL_f044989c996847daaa8ca7d3ce431abb",
              "IPY_MODEL_35178d2304f64b218d9b11de4c37f9e9",
              "IPY_MODEL_17ae694c3e20457b98c278d68c4ffe8a"
            ],
            "layout": "IPY_MODEL_b84c64b5065b4958a4361b5f86d7add3"
          }
        },
        "f044989c996847daaa8ca7d3ce431abb": {
          "model_module": "@jupyter-widgets/controls",
          "model_name": "HTMLModel",
          "model_module_version": "1.5.0",
          "state": {
            "_dom_classes": [],
            "_model_module": "@jupyter-widgets/controls",
            "_model_module_version": "1.5.0",
            "_model_name": "HTMLModel",
            "_view_count": null,
            "_view_module": "@jupyter-widgets/controls",
            "_view_module_version": "1.5.0",
            "_view_name": "HTMLView",
            "description": "",
            "description_tooltip": null,
            "layout": "IPY_MODEL_cb1be55587214122ab0ed9eac0b40337",
            "placeholder": "​",
            "style": "IPY_MODEL_314a0a906e9d4088bbbc935a72dfe64c",
            "value": ""
          }
        },
        "35178d2304f64b218d9b11de4c37f9e9": {
          "model_module": "@jupyter-widgets/controls",
          "model_name": "FloatProgressModel",
          "model_module_version": "1.5.0",
          "state": {
            "_dom_classes": [],
            "_model_module": "@jupyter-widgets/controls",
            "_model_module_version": "1.5.0",
            "_model_name": "FloatProgressModel",
            "_view_count": null,
            "_view_module": "@jupyter-widgets/controls",
            "_view_module_version": "1.5.0",
            "_view_name": "ProgressView",
            "bar_style": "success",
            "description": "",
            "description_tooltip": null,
            "layout": "IPY_MODEL_385d72ac8e1946329693ca69219654ac",
            "max": 1,
            "min": 0,
            "orientation": "horizontal",
            "style": "IPY_MODEL_512b11545f9048f49b183973b601a6a4",
            "value": 1
          }
        },
        "17ae694c3e20457b98c278d68c4ffe8a": {
          "model_module": "@jupyter-widgets/controls",
          "model_name": "HTMLModel",
          "model_module_version": "1.5.0",
          "state": {
            "_dom_classes": [],
            "_model_module": "@jupyter-widgets/controls",
            "_model_module_version": "1.5.0",
            "_model_name": "HTMLModel",
            "_view_count": null,
            "_view_module": "@jupyter-widgets/controls",
            "_view_module_version": "1.5.0",
            "_view_name": "HTMLView",
            "description": "",
            "description_tooltip": null,
            "layout": "IPY_MODEL_6c96b907cb28402e946afdafa5639d31",
            "placeholder": "​",
            "style": "IPY_MODEL_35843b762dd64d85ba8f1bedb239ffb4",
            "value": " 12836/? [00:20&lt;00:00, 267.37it/s]"
          }
        },
        "b84c64b5065b4958a4361b5f86d7add3": {
          "model_module": "@jupyter-widgets/base",
          "model_name": "LayoutModel",
          "model_module_version": "1.2.0",
          "state": {
            "_model_module": "@jupyter-widgets/base",
            "_model_module_version": "1.2.0",
            "_model_name": "LayoutModel",
            "_view_count": null,
            "_view_module": "@jupyter-widgets/base",
            "_view_module_version": "1.2.0",
            "_view_name": "LayoutView",
            "align_content": null,
            "align_items": null,
            "align_self": null,
            "border": null,
            "bottom": null,
            "display": null,
            "flex": null,
            "flex_flow": null,
            "grid_area": null,
            "grid_auto_columns": null,
            "grid_auto_flow": null,
            "grid_auto_rows": null,
            "grid_column": null,
            "grid_gap": null,
            "grid_row": null,
            "grid_template_areas": null,
            "grid_template_columns": null,
            "grid_template_rows": null,
            "height": null,
            "justify_content": null,
            "justify_items": null,
            "left": null,
            "margin": null,
            "max_height": null,
            "max_width": null,
            "min_height": null,
            "min_width": null,
            "object_fit": null,
            "object_position": null,
            "order": null,
            "overflow": null,
            "overflow_x": null,
            "overflow_y": null,
            "padding": null,
            "right": null,
            "top": null,
            "visibility": null,
            "width": null
          }
        },
        "cb1be55587214122ab0ed9eac0b40337": {
          "model_module": "@jupyter-widgets/base",
          "model_name": "LayoutModel",
          "model_module_version": "1.2.0",
          "state": {
            "_model_module": "@jupyter-widgets/base",
            "_model_module_version": "1.2.0",
            "_model_name": "LayoutModel",
            "_view_count": null,
            "_view_module": "@jupyter-widgets/base",
            "_view_module_version": "1.2.0",
            "_view_name": "LayoutView",
            "align_content": null,
            "align_items": null,
            "align_self": null,
            "border": null,
            "bottom": null,
            "display": null,
            "flex": null,
            "flex_flow": null,
            "grid_area": null,
            "grid_auto_columns": null,
            "grid_auto_flow": null,
            "grid_auto_rows": null,
            "grid_column": null,
            "grid_gap": null,
            "grid_row": null,
            "grid_template_areas": null,
            "grid_template_columns": null,
            "grid_template_rows": null,
            "height": null,
            "justify_content": null,
            "justify_items": null,
            "left": null,
            "margin": null,
            "max_height": null,
            "max_width": null,
            "min_height": null,
            "min_width": null,
            "object_fit": null,
            "object_position": null,
            "order": null,
            "overflow": null,
            "overflow_x": null,
            "overflow_y": null,
            "padding": null,
            "right": null,
            "top": null,
            "visibility": null,
            "width": null
          }
        },
        "314a0a906e9d4088bbbc935a72dfe64c": {
          "model_module": "@jupyter-widgets/controls",
          "model_name": "DescriptionStyleModel",
          "model_module_version": "1.5.0",
          "state": {
            "_model_module": "@jupyter-widgets/controls",
            "_model_module_version": "1.5.0",
            "_model_name": "DescriptionStyleModel",
            "_view_count": null,
            "_view_module": "@jupyter-widgets/base",
            "_view_module_version": "1.2.0",
            "_view_name": "StyleView",
            "description_width": ""
          }
        },
        "385d72ac8e1946329693ca69219654ac": {
          "model_module": "@jupyter-widgets/base",
          "model_name": "LayoutModel",
          "model_module_version": "1.2.0",
          "state": {
            "_model_module": "@jupyter-widgets/base",
            "_model_module_version": "1.2.0",
            "_model_name": "LayoutModel",
            "_view_count": null,
            "_view_module": "@jupyter-widgets/base",
            "_view_module_version": "1.2.0",
            "_view_name": "LayoutView",
            "align_content": null,
            "align_items": null,
            "align_self": null,
            "border": null,
            "bottom": null,
            "display": null,
            "flex": null,
            "flex_flow": null,
            "grid_area": null,
            "grid_auto_columns": null,
            "grid_auto_flow": null,
            "grid_auto_rows": null,
            "grid_column": null,
            "grid_gap": null,
            "grid_row": null,
            "grid_template_areas": null,
            "grid_template_columns": null,
            "grid_template_rows": null,
            "height": null,
            "justify_content": null,
            "justify_items": null,
            "left": null,
            "margin": null,
            "max_height": null,
            "max_width": null,
            "min_height": null,
            "min_width": null,
            "object_fit": null,
            "object_position": null,
            "order": null,
            "overflow": null,
            "overflow_x": null,
            "overflow_y": null,
            "padding": null,
            "right": null,
            "top": null,
            "visibility": null,
            "width": "20px"
          }
        },
        "512b11545f9048f49b183973b601a6a4": {
          "model_module": "@jupyter-widgets/controls",
          "model_name": "ProgressStyleModel",
          "model_module_version": "1.5.0",
          "state": {
            "_model_module": "@jupyter-widgets/controls",
            "_model_module_version": "1.5.0",
            "_model_name": "ProgressStyleModel",
            "_view_count": null,
            "_view_module": "@jupyter-widgets/base",
            "_view_module_version": "1.2.0",
            "_view_name": "StyleView",
            "bar_color": null,
            "description_width": ""
          }
        },
        "6c96b907cb28402e946afdafa5639d31": {
          "model_module": "@jupyter-widgets/base",
          "model_name": "LayoutModel",
          "model_module_version": "1.2.0",
          "state": {
            "_model_module": "@jupyter-widgets/base",
            "_model_module_version": "1.2.0",
            "_model_name": "LayoutModel",
            "_view_count": null,
            "_view_module": "@jupyter-widgets/base",
            "_view_module_version": "1.2.0",
            "_view_name": "LayoutView",
            "align_content": null,
            "align_items": null,
            "align_self": null,
            "border": null,
            "bottom": null,
            "display": null,
            "flex": null,
            "flex_flow": null,
            "grid_area": null,
            "grid_auto_columns": null,
            "grid_auto_flow": null,
            "grid_auto_rows": null,
            "grid_column": null,
            "grid_gap": null,
            "grid_row": null,
            "grid_template_areas": null,
            "grid_template_columns": null,
            "grid_template_rows": null,
            "height": null,
            "justify_content": null,
            "justify_items": null,
            "left": null,
            "margin": null,
            "max_height": null,
            "max_width": null,
            "min_height": null,
            "min_width": null,
            "object_fit": null,
            "object_position": null,
            "order": null,
            "overflow": null,
            "overflow_x": null,
            "overflow_y": null,
            "padding": null,
            "right": null,
            "top": null,
            "visibility": null,
            "width": null
          }
        },
        "35843b762dd64d85ba8f1bedb239ffb4": {
          "model_module": "@jupyter-widgets/controls",
          "model_name": "DescriptionStyleModel",
          "model_module_version": "1.5.0",
          "state": {
            "_model_module": "@jupyter-widgets/controls",
            "_model_module_version": "1.5.0",
            "_model_name": "DescriptionStyleModel",
            "_view_count": null,
            "_view_module": "@jupyter-widgets/base",
            "_view_module_version": "1.2.0",
            "_view_name": "StyleView",
            "description_width": ""
          }
        }
      }
    }
  },
  "nbformat": 4,
  "nbformat_minor": 0
}